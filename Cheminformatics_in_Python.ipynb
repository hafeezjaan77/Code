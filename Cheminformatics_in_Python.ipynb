{
  "nbformat": 4,
  "nbformat_minor": 0,
  "metadata": {
    "colab": {
      "name": "Cheminformatics in Python.ipynb",
      "private_outputs": true,
      "provenance": [],
      "authorship_tag": "ABX9TyP0fgR+pnn8ehfKXGvZPtX3",
      "include_colab_link": true
    },
    "kernelspec": {
      "name": "python3",
      "display_name": "Python 3"
    },
    "language_info": {
      "name": "python"
    }
  },
  "cells": [
    {
      "cell_type": "markdown",
      "metadata": {
        "id": "view-in-github",
        "colab_type": "text"
      },
      "source": [
        "<a href=\"https://colab.research.google.com/github/hafeezjaan77/Code/blob/main/Cheminformatics_in_Python.ipynb\" target=\"_parent\"><img src=\"https://colab.research.google.com/assets/colab-badge.svg\" alt=\"Open In Colab\"/></a>"
      ]
    },
    {
      "cell_type": "markdown",
      "metadata": {
        "id": "kQ-pwQq_cggC"
      },
      "source": [
        "# **Cheminformatics in Python: Predicting Solubility of Molecules**\n",
        "\n",
        "**End-to-End Data Science Project**"
      ]
    },
    {
      "cell_type": "markdown",
      "metadata": {
        "id": "6I8THZE9cthd"
      },
      "source": [
        "# **Install Conda**"
      ]
    },
    {
      "cell_type": "code",
      "metadata": {
        "id": "14O-2NnLcfcs"
      },
      "source": [
        "! pip install conda"
      ],
      "execution_count": null,
      "outputs": []
    },
    {
      "cell_type": "markdown",
      "metadata": {
        "id": "O3gPjUqic5sL"
      },
      "source": [
        "# **Install rdkit**"
      ]
    },
    {
      "cell_type": "code",
      "metadata": {
        "id": "dxWvS7g7dcEP"
      },
      "source": [
        "! wget https://repo.anaconda.com/miniconda/Miniconda3-py37_4.8.2-Linux-x86_64.sh\n",
        "! chmod +x Miniconda3-py37_4.8.2-Linux-x86_64.sh\n",
        "! bash ./Miniconda3-py37_4.8.2-Linux-x86_64.sh -b -f -p /usr/local\n",
        "! conda install -c rdkit rdkit -y\n",
        "import sys\n",
        "sys.path.append('/usr/local/lib/python3.7/site-packages/')"
      ],
      "execution_count": null,
      "outputs": []
    },
    {
      "cell_type": "markdown",
      "metadata": {
        "id": "rfrZ4Vj4dx1-"
      },
      "source": [
        "# **2. Delaney's solubility dataset**\n",
        "\n",
        "The original Delaney's dataset available as a Supplementary file. \n",
        "The full paper is entitled ESOL: Estimating Aqueous Solubility Directly from Molecular Structure."
      ]
    },
    {
      "cell_type": "markdown",
      "metadata": {
        "id": "ylM_BgKveBgL"
      },
      "source": [
        "**2.1. Download the dataset**"
      ]
    },
    {
      "cell_type": "code",
      "metadata": {
        "id": "odiERyrjd9Dt"
      },
      "source": [
        "! wget https://pubs.acs.org/doi/suppl/10.1021/ci034243x/suppl_file/ci034243xsi20040112_053635.txt"
      ],
      "execution_count": null,
      "outputs": []
    },
    {
      "cell_type": "code",
      "metadata": {
        "id": "9GdcH0DyeLpg"
      },
      "source": [
        "! wget https://raw.githubusercontent.com/dataprofessor/data/master/delaney.csv"
      ],
      "execution_count": null,
      "outputs": []
    },
    {
      "cell_type": "markdown",
      "metadata": {
        "id": "v-6HydOFeQYU"
      },
      "source": [
        "**2.2. Read in the dataset**"
      ]
    },
    {
      "cell_type": "code",
      "metadata": {
        "id": "HEfo6TFReR95"
      },
      "source": [
        "import pandas as pd"
      ],
      "execution_count": null,
      "outputs": []
    },
    {
      "cell_type": "code",
      "metadata": {
        "id": "fUkOJTc9eZqw"
      },
      "source": [
        "sol = pd.read_csv('delaney.csv')\n",
        "sol"
      ],
      "execution_count": null,
      "outputs": []
    },
    {
      "cell_type": "markdown",
      "metadata": {
        "id": "A0tg6bonejWi"
      },
      "source": [
        "**2.3. Examining the SMILES data**\n",
        "\n",
        "Chemical structures are encoded by a string of text known as SMILES which is an acronym for Simplified Molecular-Input Line-Entry System."
      ]
    },
    {
      "cell_type": "code",
      "metadata": {
        "id": "eLaeevwPemLZ"
      },
      "source": [
        "sol.SMILES"
      ],
      "execution_count": null,
      "outputs": []
    },
    {
      "cell_type": "code",
      "metadata": {
        "id": "SmHjzQqSe1sw"
      },
      "source": [
        "sol.SMILES[0]"
      ],
      "execution_count": null,
      "outputs": []
    },
    {
      "cell_type": "markdown",
      "metadata": {
        "id": "cfNryy8De7E9"
      },
      "source": [
        "**2.4. Convert a molecule from the SMILES string to an rdkit object**"
      ]
    },
    {
      "cell_type": "code",
      "metadata": {
        "id": "5F_CNs1ee8yi"
      },
      "source": [
        "from rdkit import Chem"
      ],
      "execution_count": null,
      "outputs": []
    },
    {
      "cell_type": "code",
      "metadata": {
        "id": "0-_1VK6RfCgQ"
      },
      "source": [
        "Chem.MolFromSmiles(sol.SMILES[0])"
      ],
      "execution_count": null,
      "outputs": []
    },
    {
      "cell_type": "code",
      "metadata": {
        "id": "6RV9LZsyfGBA"
      },
      "source": [
        "Chem.MolFromSmiles('ClCC(Cl)(Cl)Cl')"
      ],
      "execution_count": null,
      "outputs": []
    },
    {
      "cell_type": "markdown",
      "metadata": {
        "id": "XUmT2KvBfKvp"
      },
      "source": [
        "**2.5. Working with rdkit object**"
      ]
    },
    {
      "cell_type": "code",
      "metadata": {
        "id": "bOHXywCOfM9-"
      },
      "source": [
        "m = Chem.MolFromSmiles('ClCC(Cl)(Cl)Cl')"
      ],
      "execution_count": null,
      "outputs": []
    },
    {
      "cell_type": "code",
      "metadata": {
        "id": "58auovQQfTAu"
      },
      "source": [
        "m.GetNumAtoms()"
      ],
      "execution_count": null,
      "outputs": []
    },
    {
      "cell_type": "markdown",
      "metadata": {
        "id": "vgOUyLvjfYPR"
      },
      "source": [
        "# **3. Calculate molecular descriptors in rdkit**\n",
        "\n",
        "**3.1. Convert list of molecules to rdkit object**"
      ]
    },
    {
      "cell_type": "code",
      "metadata": {
        "id": "j7TZF8kIfcIg"
      },
      "source": [
        "from rdkit import Chem"
      ],
      "execution_count": null,
      "outputs": []
    },
    {
      "cell_type": "markdown",
      "metadata": {
        "id": "OiRElqIjfidS"
      },
      "source": [
        "**3.1.1. Method 1**"
      ]
    },
    {
      "cell_type": "code",
      "metadata": {
        "id": "IuFwJAUzfkBu"
      },
      "source": [
        "mol_list= []\n",
        "for element in sol.SMILES:\n",
        "  mol = Chem.MolFromSmiles(element)\n",
        "  mol_list.append(mol)"
      ],
      "execution_count": null,
      "outputs": []
    },
    {
      "cell_type": "code",
      "metadata": {
        "id": "5q1d1mEmfpO_"
      },
      "source": [
        "len(mol_list)"
      ],
      "execution_count": null,
      "outputs": []
    },
    {
      "cell_type": "code",
      "metadata": {
        "id": "Rz0pO103fuMs"
      },
      "source": [
        "mol_list[:5]"
      ],
      "execution_count": null,
      "outputs": []
    },
    {
      "cell_type": "markdown",
      "metadata": {
        "id": "yXNFk8SvfyQI"
      },
      "source": [
        "**3.1.2. Method 2**"
      ]
    },
    {
      "cell_type": "code",
      "metadata": {
        "id": "XkSOHzGafzr_"
      },
      "source": [
        "mol_list2 = [Chem.MolFromSmiles(element) for element in sol.SMILES]"
      ],
      "execution_count": null,
      "outputs": []
    },
    {
      "cell_type": "code",
      "metadata": {
        "id": "ihTexexyf6XX"
      },
      "source": [
        "len(mol_list2)"
      ],
      "execution_count": null,
      "outputs": []
    },
    {
      "cell_type": "code",
      "metadata": {
        "id": "m4RX_g5Vf-rZ"
      },
      "source": [
        "mol_list2[:5]"
      ],
      "execution_count": null,
      "outputs": []
    },
    {
      "cell_type": "markdown",
      "metadata": {
        "id": "fzSnjRXsgB4y"
      },
      "source": [
        "# **3.2. Calculate molecular descriptors**\n",
        "\n",
        "To predict **LogS** (log of the aqueous solubility), the study by Delaney makes use of 4 molecular descriptors:\n",
        "\n",
        "1. **cLogP** (Octanol-water partition coefficient)\n",
        "2. **MW** (Molecular weight)\n",
        "3. **RB** (Number of rotatable bonds)\n",
        "4. **AP** (Aromatic proportion = number of aromatic atoms / total number of heavy atoms)\n",
        "\n",
        "Unfortunately, rdkit readily computes the first 3. As for the AP descriptor, we will calculate this by manually computing the ratio of the number of aromatic atoms to the total number of heavy atoms which rdkit can compute.\n",
        "\n",
        "**3.2.1. LogP, MW and RB**"
      ]
    },
    {
      "cell_type": "code",
      "metadata": {
        "id": "HVCLnvOJgcKT"
      },
      "source": [
        "import numpy as np\n",
        "from rdkit.Chem import Descriptors"
      ],
      "execution_count": null,
      "outputs": []
    },
    {
      "cell_type": "code",
      "metadata": {
        "id": "fdfcM-0Kgj3E"
      },
      "source": [
        "# Inspired by: https://codeocean.com/explore/capsules?query=tag:data-curation\n",
        "\n",
        "def generate(smiles, verbose=False):\n",
        "\n",
        "    moldata= []\n",
        "    for elem in smiles:\n",
        "        mol=Chem.MolFromSmiles(elem) \n",
        "        moldata.append(mol)\n",
        "       \n",
        "    baseData= np.arange(1,1)\n",
        "    i=0  \n",
        "    for mol in moldata:        \n",
        "       \n",
        "        desc_MolLogP = Descriptors.MolLogP(mol)\n",
        "        desc_MolWt = Descriptors.MolWt(mol)\n",
        "        desc_NumRotatableBonds = Descriptors.NumRotatableBonds(mol)\n",
        "           \n",
        "        row = np.array([desc_MolLogP,\n",
        "                        desc_MolWt,\n",
        "                        desc_NumRotatableBonds])   \n",
        "    \n",
        "        if(i==0):\n",
        "            baseData=row\n",
        "        else:\n",
        "            baseData=np.vstack([baseData, row])\n",
        "        i=i+1      \n",
        "    \n",
        "    columnNames=[\"MolLogP\",\"MolWt\",\"NumRotatableBonds\"]   \n",
        "    descriptors = pd.DataFrame(data=baseData,columns=columnNames)\n",
        "    \n",
        "    return descriptors"
      ],
      "execution_count": null,
      "outputs": []
    },
    {
      "cell_type": "code",
      "metadata": {
        "id": "tZpPqmLggn2U"
      },
      "source": [
        "df = generate(sol.SMILES)\n",
        "df"
      ],
      "execution_count": null,
      "outputs": []
    },
    {
      "cell_type": "markdown",
      "metadata": {
        "id": "r_UWPFSXguVN"
      },
      "source": [
        "**3.2.2. Aromatic proportion**\n",
        "\n",
        "**3.2.1.1. Number of aromatic atoms**\n",
        "\n",
        "Here, we will create a custom function to calculate the **Number of aromatic atoms**. With this descriptor we can use it to subsequently calculate the AP descriptor.\n",
        "\n",
        "Computing for a single molecule."
      ]
    },
    {
      "cell_type": "code",
      "metadata": {
        "id": "3jo0sh22g9hT"
      },
      "source": [
        "m = Chem.MolFromSmiles('COc1cccc2cc(C(=O)NCCCCN3CCN(c4cccc5nccnc54)CC3)oc21')"
      ],
      "execution_count": null,
      "outputs": []
    },
    {
      "cell_type": "code",
      "metadata": {
        "id": "lPeEwpfDhA9p"
      },
      "source": [
        "aromatic_atoms = [m.GetAtomWithIdx(i).GetIsAromatic() for i in range(m.GetNumAtoms())]\n",
        "aromatic_atoms"
      ],
      "execution_count": null,
      "outputs": []
    },
    {
      "cell_type": "code",
      "metadata": {
        "id": "jljxF6bdhIn1"
      },
      "source": [
        "def AromaticAtoms(m):\n",
        "  aromatic_atoms = [m.GetAtomWithIdx(i).GetIsAromatic() for i in range(m.GetNumAtoms())]\n",
        "  aa_count = []\n",
        "  for i in aromatic_atoms:\n",
        "    if i==True:\n",
        "      aa_count.append(1)\n",
        "  sum_aa_count = sum(aa_count)\n",
        "  return sum_aa_count"
      ],
      "execution_count": null,
      "outputs": []
    },
    {
      "cell_type": "code",
      "metadata": {
        "id": "v0l861DhhLdk"
      },
      "source": [
        "AromaticAtoms(m)"
      ],
      "execution_count": null,
      "outputs": []
    },
    {
      "cell_type": "markdown",
      "metadata": {
        "id": "jUWNVh0JhPJf"
      },
      "source": [
        "Computing for molecules in the entire dataset."
      ]
    },
    {
      "cell_type": "code",
      "metadata": {
        "id": "vCZw5UQUhP6J"
      },
      "source": [
        "desc_AromaticAtoms = [AromaticAtoms(element) for element in mol_list]\n",
        "desc_AromaticAtoms"
      ],
      "execution_count": null,
      "outputs": []
    },
    {
      "cell_type": "markdown",
      "metadata": {
        "id": "3T0XJ-fyhc26"
      },
      "source": [
        "**3.2.1.2. Number of heavy atoms**\n",
        "\n",
        "Here, we will use an existing function for calculating the Number of heavy atoms.\n",
        "\n",
        "Computing for a single molecule."
      ]
    },
    {
      "cell_type": "code",
      "metadata": {
        "id": "yGUcPrRzhf8D"
      },
      "source": [
        "m = Chem.MolFromSmiles('COc1cccc2cc(C(=O)NCCCCN3CCN(c4cccc5nccnc54)CC3)oc21')\n",
        "Descriptors.HeavyAtomCount(m)"
      ],
      "execution_count": null,
      "outputs": []
    },
    {
      "cell_type": "markdown",
      "metadata": {
        "id": "rTe4WZSHhk3A"
      },
      "source": [
        "Computing for molecules in the entire dataset."
      ]
    },
    {
      "cell_type": "code",
      "metadata": {
        "id": "q5GMzvl5hmg3"
      },
      "source": [
        "desc_HeavyAtomCount = [Descriptors.HeavyAtomCount(element) for element in mol_list]\n",
        "desc_HeavyAtomCount"
      ],
      "execution_count": null,
      "outputs": []
    },
    {
      "cell_type": "markdown",
      "metadata": {
        "id": "zHsUjLj4hwMA"
      },
      "source": [
        "**3.2.1.3. Computing the Aromatic Proportion (AP) descriptor**\n",
        "\n",
        "Computing for a single molecule."
      ]
    },
    {
      "cell_type": "code",
      "metadata": {
        "id": "4RnhweSRh0z7"
      },
      "source": [
        "m = Chem.MolFromSmiles('COc1cccc2cc(C(=O)NCCCCN3CCN(c4cccc5nccnc54)CC3)oc21')\n",
        "AromaticAtoms(m)/Descriptors.HeavyAtomCount(m)"
      ],
      "execution_count": null,
      "outputs": []
    },
    {
      "cell_type": "markdown",
      "metadata": {
        "id": "M4lf4L7ch7OW"
      },
      "source": [
        "Computing for molecules in the entire dataset."
      ]
    },
    {
      "cell_type": "code",
      "metadata": {
        "id": "XU2WsH2Uh8Iv"
      },
      "source": [
        "desc_AromaticProportion = [AromaticAtoms(element)/Descriptors.HeavyAtomCount(element) for element in mol_list]\n",
        "desc_AromaticProportion"
      ],
      "execution_count": null,
      "outputs": []
    },
    {
      "cell_type": "code",
      "metadata": {
        "id": "WScu6FEtiHLA"
      },
      "source": [
        "df_desc_AromaticProportion = pd.DataFrame(desc_AromaticProportion, columns=['AromaticProportion'])\n",
        "df_desc_AromaticProportion"
      ],
      "execution_count": null,
      "outputs": []
    },
    {
      "cell_type": "markdown",
      "metadata": {
        "id": "Ljov4HAjiMuv"
      },
      "source": [
        "**3.3. X matrix (Combining all computed descriptors into 1 dataframe)**\n"
      ]
    },
    {
      "cell_type": "code",
      "metadata": {
        "id": "XUp8V_VBiP07"
      },
      "source": [
        "df"
      ],
      "execution_count": null,
      "outputs": []
    },
    {
      "cell_type": "code",
      "metadata": {
        "id": "5UKVO_daiUbU"
      },
      "source": [
        "df_desc_AromaticProportion\n"
      ],
      "execution_count": null,
      "outputs": []
    },
    {
      "cell_type": "markdown",
      "metadata": {
        "id": "22tdl6GkiaJ4"
      },
      "source": [
        "Let's combine the 2 dataframes to produce the X matrix\n",
        "\n"
      ]
    },
    {
      "cell_type": "code",
      "metadata": {
        "id": "ywmGfqHLibGg"
      },
      "source": [
        "X = pd.concat([df,df_desc_AromaticProportion], axis=1)\n",
        "X"
      ],
      "execution_count": null,
      "outputs": []
    },
    {
      "cell_type": "markdown",
      "metadata": {
        "id": "rEK2RPLnijXu"
      },
      "source": [
        "**3.4. Y matrix**"
      ]
    },
    {
      "cell_type": "code",
      "metadata": {
        "id": "9egVp2XSik4s"
      },
      "source": [
        "sol.head()"
      ],
      "execution_count": null,
      "outputs": []
    },
    {
      "cell_type": "markdown",
      "metadata": {
        "id": "fuGoLOO6kNd1"
      },
      "source": [
        "Assigning the second column (index 1) to the Y matrix"
      ]
    },
    {
      "cell_type": "code",
      "metadata": {
        "id": "DAv7j5EVkOUW"
      },
      "source": [
        "Y = sol.iloc[:,1]\n",
        "Y"
      ],
      "execution_count": null,
      "outputs": []
    },
    {
      "cell_type": "markdown",
      "metadata": {
        "id": "5SUZF1K3kV6U"
      },
      "source": [
        "# **Data split**"
      ]
    },
    {
      "cell_type": "code",
      "metadata": {
        "id": "4G_zrpcgkXty"
      },
      "source": [
        "from sklearn.model_selection import train_test_split\n"
      ],
      "execution_count": null,
      "outputs": []
    },
    {
      "cell_type": "code",
      "metadata": {
        "id": "992upI--kdNC"
      },
      "source": [
        "X_train, X_test, Y_train, Y_test = train_test_split(X, Y, test_size=0.2)"
      ],
      "execution_count": null,
      "outputs": []
    },
    {
      "cell_type": "markdown",
      "metadata": {
        "id": "c7V9Bkuwkgvl"
      },
      "source": [
        "# **Linear Regression Model**"
      ]
    },
    {
      "cell_type": "code",
      "metadata": {
        "id": "bgSsGVa3kkqS"
      },
      "source": [
        "from sklearn import linear_model\n",
        "from sklearn.metrics import mean_squared_error, r2_score"
      ],
      "execution_count": null,
      "outputs": []
    },
    {
      "cell_type": "code",
      "metadata": {
        "id": "51jJSE9DkqqE"
      },
      "source": [
        "model = linear_model.LinearRegression()\n",
        "model.fit(X_train, Y_train)"
      ],
      "execution_count": null,
      "outputs": []
    },
    {
      "cell_type": "markdown",
      "metadata": {
        "id": "Ni3qbf19kuNH"
      },
      "source": [
        "**Predicts the X_train**"
      ]
    },
    {
      "cell_type": "code",
      "metadata": {
        "id": "eL_CwAHBkvD7"
      },
      "source": [
        "Y_pred_train = model.predict(X_train)"
      ],
      "execution_count": null,
      "outputs": []
    },
    {
      "cell_type": "code",
      "metadata": {
        "id": "spm427o2k4kV"
      },
      "source": [
        "print('Coefficients:', model.coef_)\n",
        "print('Intercept:', model.intercept_)\n",
        "print('Mean squared error (MSE): %.2f'\n",
        "      % mean_squared_error(Y_train, Y_pred_train))\n",
        "print('Coefficient of determination (R^2): %.2f'\n",
        "      % r2_score(Y_train, Y_pred_train))"
      ],
      "execution_count": null,
      "outputs": []
    },
    {
      "cell_type": "markdown",
      "metadata": {
        "id": "lfEweeLDk-Ww"
      },
      "source": [
        "**Predicts the X_test**"
      ]
    },
    {
      "cell_type": "code",
      "metadata": {
        "id": "f9B0Ki9dk_14"
      },
      "source": [
        "Y_pred_test = model.predict(X_test)\n"
      ],
      "execution_count": null,
      "outputs": []
    },
    {
      "cell_type": "code",
      "metadata": {
        "id": "2Hdkm7q8lDvI"
      },
      "source": [
        "print('Coefficients:', model.coef_)\n",
        "print('Intercept:', model.intercept_)\n",
        "print('Mean squared error (MSE): %.2f'\n",
        "      % mean_squared_error(Y_test, Y_pred_test))\n",
        "print('Coefficient of determination (R^2): %.2f'\n",
        "      % r2_score(Y_test, Y_pred_test))"
      ],
      "execution_count": null,
      "outputs": []
    },
    {
      "cell_type": "markdown",
      "metadata": {
        "id": "8EvD8wRflTEz"
      },
      "source": [
        "# **Linear Regression Equation**\n",
        "\n",
        "The work of Delaney     1 provided the following linear regression equation:\n",
        "\n",
        "LogS = 0.16 - 0.63 cLogP - 0.0062 MW + 0.066 RB - 0.74 AP\n",
        "\n",
        "The reproduction by Pat Walters$^2$ provided the following:\n",
        "\n",
        "LogS = 0.26 - 0.74 LogP - 0.0066 MW + 0.0034 RB - 0.42 AP\n",
        "\n",
        "This notebook's reproduction gave the following equation:\n",
        "\n",
        "Based on the Train set\n",
        "\n",
        "LogS = 0.30 -0.75 LogP - .0066 MW -0.0041 RB - 0.36 AP\n",
        "\n",
        "Based on the Full dataset\n",
        "\n",
        "LogS = 0.26 -0.74 LogP - 0.0066 + MW 0.0032 RB - 0.42 AP\n",
        "\n",
        "\n",
        "Our linear regression equation"
      ]
    },
    {
      "cell_type": "code",
      "metadata": {
        "id": "-0Gdc_77lfwM"
      },
      "source": [
        "print('LogS = %.2f %.2f LogP %.4f MW %.4f RB %.2f AP' % (model.intercept_, model.coef_[0], model.coef_[1], model.coef_[2], model.coef_[3] ) )"
      ],
      "execution_count": null,
      "outputs": []
    },
    {
      "cell_type": "markdown",
      "metadata": {
        "id": "aJFHqaexlnu2"
      },
      "source": [
        "The same equation can also be produced with the following code (which breaks up the previous one-line code into several comprehensible lines."
      ]
    },
    {
      "cell_type": "code",
      "metadata": {
        "id": "DggRQ9ltlosJ"
      },
      "source": [
        "yintercept = '%.2f' % model.intercept_\n",
        "LogP = '%.2f LogP' % model.coef_[0]\n",
        "MW = '%.4f MW' % model.coef_[1]\n",
        "RB = '%.4f RB' % model.coef_[2]\n",
        "AP = '%.2f AP' % model.coef_[3]"
      ],
      "execution_count": null,
      "outputs": []
    },
    {
      "cell_type": "code",
      "metadata": {
        "id": "TDC7ENUhlvlz"
      },
      "source": [
        "print('LogS = ' + \n",
        "      ' ' + \n",
        "      yintercept + \n",
        "      ' ' + \n",
        "      LogP + \n",
        "      ' ' + \n",
        "      MW + \n",
        "      ' ' + \n",
        "      RB + \n",
        "      ' ' + \n",
        "      AP)"
      ],
      "execution_count": null,
      "outputs": []
    },
    {
      "cell_type": "markdown",
      "metadata": {
        "id": "cK3dtqtrlz6f"
      },
      "source": [
        "Use entire dataset for model training (For Comparison)"
      ]
    },
    {
      "cell_type": "code",
      "metadata": {
        "id": "kFkKdG22lzZx"
      },
      "source": [
        "full = linear_model.LinearRegression()\n",
        "full.fit(X, Y)"
      ],
      "execution_count": null,
      "outputs": []
    },
    {
      "cell_type": "code",
      "metadata": {
        "id": "u4t559dHl7T1"
      },
      "source": [
        "full_pred = model.predict(X)"
      ],
      "execution_count": null,
      "outputs": []
    },
    {
      "cell_type": "code",
      "metadata": {
        "id": "Bv9BIST8l-ly"
      },
      "source": [
        "print('Coefficients:', full.coef_)\n",
        "print('Intercept:', full.intercept_)\n",
        "print('Mean squared error (MSE): %.2f'\n",
        "      % mean_squared_error(Y, full_pred))\n",
        "print('Coefficient of determination (R^2): %.2f'\n",
        "      % r2_score(Y, full_pred))"
      ],
      "execution_count": null,
      "outputs": []
    },
    {
      "cell_type": "code",
      "metadata": {
        "id": "2JIczk0tmEUC"
      },
      "source": [
        "full_yintercept = '%.2f' % full.intercept_\n",
        "full_LogP = '%.2f LogP' % full.coef_[0]\n",
        "full_MW = '%.4f MW' % full.coef_[1]\n",
        "full_RB = '+ %.4f RB' % full.coef_[2]\n",
        "full_AP = '%.2f AP' % full.coef_[3]"
      ],
      "execution_count": null,
      "outputs": []
    },
    {
      "cell_type": "code",
      "metadata": {
        "id": "BH4LQNQvmHkl"
      },
      "source": [
        "print('LogS = ' + \n",
        "      ' ' + \n",
        "      full_yintercept + \n",
        "      ' ' + \n",
        "      full_LogP + \n",
        "      ' ' + \n",
        "      full_MW + \n",
        "      ' ' + \n",
        "      full_RB + \n",
        "      ' ' + \n",
        "      full_AP)"
      ],
      "execution_count": null,
      "outputs": []
    },
    {
      "cell_type": "markdown",
      "metadata": {
        "id": "Q9ev671pmMFt"
      },
      "source": [
        "**Scatter plot of experimental vs. predicted LogS**"
      ]
    },
    {
      "cell_type": "code",
      "metadata": {
        "id": "1fHGyQykmN6W"
      },
      "source": [
        "import matplotlib.pyplot as plt\n"
      ],
      "execution_count": null,
      "outputs": []
    },
    {
      "cell_type": "markdown",
      "metadata": {
        "id": "Gg_HI4oJmQ7K"
      },
      "source": [
        "**Quick check of the variable dimensions of Train and Test sets**\n"
      ]
    },
    {
      "cell_type": "code",
      "metadata": {
        "id": "2t7MFv8OmVFy"
      },
      "source": [
        "Y_train.shape, Y_pred_train.shape"
      ],
      "execution_count": null,
      "outputs": []
    },
    {
      "cell_type": "code",
      "metadata": {
        "id": "pnTl22rKmaex"
      },
      "source": [
        "Y_test.shape, Y_pred_test.shape\n"
      ],
      "execution_count": null,
      "outputs": []
    },
    {
      "cell_type": "markdown",
      "metadata": {
        "id": "-ZzYw-R9mdwX"
      },
      "source": [
        "**Vertical plot**"
      ]
    },
    {
      "cell_type": "code",
      "metadata": {
        "id": "u6oi9yfqmfWd"
      },
      "source": [
        "plt.figure(figsize=(5,11))\n",
        "\n",
        "# 2 row, 1 column, plot 1\n",
        "plt.subplot(2, 1, 1)\n",
        "plt.scatter(x=Y_train, y=Y_pred_train, c=\"#7CAE00\", alpha=0.3)\n",
        "\n",
        "# Add trendline\n",
        "# https://stackoverflow.com/questions/26447191/how-to-add-trendline-in-python-matplotlib-dot-scatter-graphs\n",
        "z = np.polyfit(Y_train, Y_pred_train, 1)\n",
        "p = np.poly1d(z)\n",
        "plt.plot(Y_test,p(Y_test),\"#F8766D\")\n",
        "\n",
        "plt.ylabel('Predicted LogS')\n",
        "\n",
        "\n",
        "# 2 row, 1 column, plot 2\n",
        "plt.subplot(2, 1, 2)\n",
        "plt.scatter(x=Y_test, y=Y_pred_test, c=\"#619CFF\", alpha=0.3)\n",
        "\n",
        "z = np.polyfit(Y_test, Y_pred_test, 1)\n",
        "p = np.poly1d(z)\n",
        "plt.plot(Y_test,p(Y_test),\"#F8766D\")\n",
        "\n",
        "plt.ylabel('Predicted LogS')\n",
        "plt.xlabel('Experimental LogS')\n",
        "\n",
        "plt.savefig('plot_vertical_logS.png')\n",
        "plt.savefig('plot_vertical_logS.pdf')\n",
        "plt.show()"
      ],
      "execution_count": null,
      "outputs": []
    },
    {
      "cell_type": "markdown",
      "metadata": {
        "id": "nmAW_eqhmpyr"
      },
      "source": [
        "**Horizontal plot**"
      ]
    },
    {
      "cell_type": "code",
      "metadata": {
        "id": "2Q3tm2FWmrWh"
      },
      "source": [
        "plt.figure(figsize=(11,5))\n",
        "\n",
        "# 1 row, 2 column, plot 1\n",
        "plt.subplot(1, 2, 1)\n",
        "plt.scatter(x=Y_train, y=Y_pred_train, c=\"#7CAE00\", alpha=0.3)\n",
        "\n",
        "z = np.polyfit(Y_train, Y_pred_train, 1)\n",
        "p = np.poly1d(z)\n",
        "plt.plot(Y_test,p(Y_test),\"#F8766D\")\n",
        "\n",
        "plt.ylabel('Predicted LogS')\n",
        "plt.xlabel('Experimental LogS')\n",
        "\n",
        "# 1 row, 2 column, plot 2\n",
        "plt.subplot(1, 2, 2)\n",
        "plt.scatter(x=Y_test, y=Y_pred_test, c=\"#619CFF\", alpha=0.3)\n",
        "\n",
        "z = np.polyfit(Y_test, Y_pred_test, 1)\n",
        "p = np.poly1d(z)\n",
        "plt.plot(Y_test,p(Y_test),\"#F8766D\")\n",
        "\n",
        "plt.xlabel('Experimental LogS')\n",
        "\n",
        "plt.savefig('plot_horizontal_logS.png')\n",
        "plt.savefig('plot_horizontal_logS.pdf')\n",
        "plt.show()"
      ],
      "execution_count": null,
      "outputs": []
    },
    {
      "cell_type": "code",
      "metadata": {
        "id": "QmMIINHSmzIq"
      },
      "source": [
        "! ls -l"
      ],
      "execution_count": null,
      "outputs": []
    },
    {
      "cell_type": "markdown",
      "metadata": {
        "id": "aleJTUMxm3cn"
      },
      "source": [
        "# **References**\n",
        "\n",
        "John S. Delaney. ESOL:  Estimating Aqueous Solubility Directly from Molecular Structure. J. Chem. Inf. Comput. Sci. 2004, 44, 3, 1000-1005.\n",
        "\n",
        "Pat Walters. Predicting Aqueous Solubility - It's Harder Than It Looks. Practical Cheminformatics Blog\n",
        "\n",
        "Bharath Ramsundar, Peter Eastman, Patrick Walters, and Vijay Pande. Deep Learning for the Life Sciences: Applying Deep Learning to Genomics, Microscopy, Drug Discovery, and More, O'Reilly, 2019.\n",
        "\n",
        "Supplementary file from Delaney's ESOL:  Estimating Aqueous Solubility Directly from Molecular Structure."
      ]
    }
  ]
}